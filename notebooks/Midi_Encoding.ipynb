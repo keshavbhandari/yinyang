{
 "cells": [
  {
   "cell_type": "code",
   "execution_count": 2,
   "id": "3adda391",
   "metadata": {},
   "outputs": [
    {
     "name": "stdout",
     "output_type": "stream",
     "text": [
      "/homes/kb658/yinyang\n"
     ]
    }
   ],
   "source": [
    "%cd /homes/kb658/yinyang/"
   ]
  },
  {
   "cell_type": "code",
   "execution_count": 3,
   "id": "8396050f",
   "metadata": {},
   "outputs": [],
   "source": [
    "import yaml\n",
    "import jsonlines\n",
    "\n",
    "config_path = \"/homes/kb658/yinyang/configs/configs_os.yaml\"\n",
    "\n",
    "# Load config file\n",
    "with open(config_path, 'r') as f:\n",
    "    configs = yaml.safe_load(f)\n",
    "    \n",
    "artifact_folder = configs[\"raw_data\"][\"artifact_folder\"]\n",
    "mono_folder = configs[\"raw_data\"][\"mono_folder\"]\n",
    "json_folder = configs[\"raw_data\"][\"json_folder\"]\n",
    "raw_data_folders = configs[\"raw_data\"][\"raw_data_folders\"]"
   ]
  },
  {
   "cell_type": "code",
   "execution_count": 4,
   "id": "c48e2b59",
   "metadata": {},
   "outputs": [],
   "source": [
    "import glob\n",
    "\n",
    "data_path = raw_data_folders['classical']['folder_path']\n",
    "\n",
    "# Get all the midi files in the data path recursively\n",
    "midi_files = glob.glob(data_path + '/**/*.midi', recursive=True)"
   ]
  },
  {
   "cell_type": "code",
   "execution_count": 5,
   "id": "dde9a9b8",
   "metadata": {},
   "outputs": [
    {
     "data": {
      "text/plain": [
       "1276"
      ]
     },
     "execution_count": 5,
     "metadata": {},
     "output_type": "execute_result"
    }
   ],
   "source": [
    "len(midi_files)"
   ]
  },
  {
   "cell_type": "code",
   "execution_count": 6,
   "id": "49043ca0",
   "metadata": {},
   "outputs": [
    {
     "name": "stdout",
     "output_type": "stream",
     "text": [
      "/import/c4dm-datasets/maestro-v3.0.0/2008/MIDI-Unprocessed_07_R2_2008_01-05_ORIG_MID--AUDIO_07_R2_2008_wav--2.midi\n"
     ]
    }
   ],
   "source": [
    "from aria.data.midi import MidiDict\n",
    "from aria.tokenizer import AbsTokenizer\n",
    "\n",
    "tokenizer = AbsTokenizer()\n",
    "midi_file_path = \"/import/c4dm-datasets/maestro-v3.0.0/2008/MIDI-Unprocessed_07_R2_2008_01-05_ORIG_MID--AUDIO_07_R2_2008_wav--2.midi\" # midi_files[1]\n",
    "print(midi_file_path)\n",
    "mid = MidiDict.from_midi(midi_file_path)\n",
    "tokenized_sequence = tokenizer.tokenize(mid)"
   ]
  },
  {
   "cell_type": "code",
   "execution_count": 8,
   "id": "1f343789",
   "metadata": {},
   "outputs": [],
   "source": [
    "# midi_file_path\n",
    "\n",
    "# # Copy this file to the current directory\n",
    "# import shutil\n",
    "# import os\n",
    "\n",
    "# shutil.copy(midi_file_path, 'test.midi')"
   ]
  },
  {
   "cell_type": "code",
   "execution_count": 7,
   "id": "51f6628b",
   "metadata": {},
   "outputs": [
    {
     "data": {
      "text/plain": [
       "1549"
      ]
     },
     "execution_count": 7,
     "metadata": {},
     "output_type": "execute_result"
    }
   ],
   "source": [
    "len(tokenized_sequence)"
   ]
  },
  {
   "cell_type": "code",
   "execution_count": 8,
   "id": "53c503e4",
   "metadata": {},
   "outputs": [
    {
     "data": {
      "text/plain": [
       "[('prefix', 'instrument', 'piano'),\n",
       " '<S>',\n",
       " ('piano', 63, 75),\n",
       " ('onset', 0),\n",
       " ('dur', 920),\n",
       " ('piano', 64, 75),\n",
       " ('onset', 860),\n",
       " ('dur', 740),\n",
       " ('piano', 63, 75),\n",
       " ('onset', 1320),\n",
       " ('dur', 280),\n",
       " ('piano', 68, 60),\n",
       " ('onset', 1470),\n",
       " ('dur', 820),\n",
       " ('piano', 71, 75),\n",
       " ('onset', 1480),\n",
       " ('dur', 830),\n",
       " ('piano', 62, 75),\n",
       " ('onset', 1490),\n",
       " ('dur', 790),\n",
       " ('piano', 70, 75),\n",
       " ('onset', 2180),\n",
       " ('dur', 1090),\n",
       " ('piano', 61, 60),\n",
       " ('onset', 2180),\n",
       " ('dur', 1090),\n",
       " ('piano', 67, 60),\n",
       " ('onset', 2180),\n",
       " ('dur', 1080),\n",
       " ('piano', 39, 45),\n",
       " ('onset', 2180),\n",
       " ('dur', 1080),\n",
       " ('piano', 68, 60),\n",
       " ('onset', 3040),\n",
       " ('dur', 3280),\n",
       " ('piano', 44, 45),\n",
       " ('onset', 3060),\n",
       " ('dur', 3260),\n",
       " ('piano', 51, 30),\n",
       " ('onset', 4100),\n",
       " ('dur', 2220),\n",
       " ('piano', 56, 30),\n",
       " ('onset', 4120),\n",
       " ('dur', 2200),\n",
       " ('piano', 59, 30),\n",
       " ('onset', 4130),\n",
       " ('dur', 2200),\n",
       " ('piano', 63, 30),\n",
       " ('onset', 4130),\n",
       " ('dur', 2180),\n",
       " '<T>',\n",
       " ('piano', 70, 45),\n",
       " ('onset', 460),\n",
       " ('dur', 860),\n",
       " ('piano', 71, 60),\n",
       " ('onset', 840),\n",
       " ('dur', 480),\n",
       " ('piano', 73, 75),\n",
       " ('onset', 1110),\n",
       " ('dur', 300),\n",
       " ('piano', 75, 75),\n",
       " ('onset', 1360),\n",
       " ('dur', 620),\n",
       " ('piano', 78, 75),\n",
       " ('onset', 1840),\n",
       " ('dur', 180),\n",
       " ('piano', 76, 60),\n",
       " ('onset', 1940),\n",
       " ('dur', 780),\n",
       " ('piano', 75, 60),\n",
       " ('onset', 2570),\n",
       " ('dur', 890),\n",
       " ('piano', 80, 60),\n",
       " ('onset', 2950),\n",
       " ('dur', 510),\n",
       " ('piano', 75, 60),\n",
       " ('onset', 3470),\n",
       " ('dur', 2070),\n",
       " ('piano', 68, 45),\n",
       " ('onset', 4300),\n",
       " ('dur', 1240),\n",
       " ('piano', 71, 45),\n",
       " ('onset', 4330),\n",
       " ('dur', 1210),\n",
       " ('piano', 63, 30),\n",
       " ('onset', 4340),\n",
       " ('dur', 1200),\n",
       " ('piano', 56, 30),\n",
       " ('onset', 4340),\n",
       " ('dur', 1200),\n",
       " ('piano', 75, 75),\n",
       " ('onset', 4920),\n",
       " ('dur', 620),\n",
       " '<T>',\n",
       " ('piano', 73, 75),\n",
       " ('onset', 370),\n",
       " ('dur', 180),\n",
       " ('piano', 76, 75),\n",
       " ('onset', 500),\n",
       " ('dur', 720),\n",
       " ('piano', 70, 60),\n",
       " ('onset', 500),\n",
       " ('dur', 140),\n",
       " ('piano', 61, 45),\n",
       " ('onset', 520),\n",
       " ('dur', 700),\n",
       " ('piano', 49, 60),\n",
       " ('onset', 530),\n",
       " ('dur', 700),\n",
       " ('piano', 68, 45),\n",
       " ('onset', 530),\n",
       " ('dur', 690),\n",
       " ('piano', 75, 75),\n",
       " ('onset', 1130),\n",
       " ('dur', 660),\n",
       " ('piano', 68, 45),\n",
       " ('onset', 1150),\n",
       " ('dur', 640),\n",
       " ('piano', 71, 45),\n",
       " ('onset', 1160),\n",
       " ('dur', 150),\n",
       " ('piano', 56, 45),\n",
       " ('onset', 1160),\n",
       " ('dur', 630),\n",
       " ('piano', 44, 45),\n",
       " ('onset', 1170),\n",
       " ('dur', 620),\n",
       " ('piano', 73, 60),\n",
       " ('onset', 1630),\n",
       " ('dur', 160),\n",
       " ('piano', 71, 60),\n",
       " ('onset', 1740),\n",
       " ('dur', 600),\n",
       " ('piano', 70, 60),\n",
       " ('onset', 2220),\n",
       " ('dur', 220),\n",
       " ('piano', 73, 60),\n",
       " ('onset', 2390),\n",
       " ('dur', 810),\n",
       " ('piano', 68, 45),\n",
       " ('onset', 2410),\n",
       " ('dur', 790),\n",
       " ('piano', 64, 45),\n",
       " ('onset', 2410),\n",
       " ('dur', 790),\n",
       " ('piano', 49, 30),\n",
       " ('onset', 2420),\n",
       " ('dur', 780),\n",
       " ('piano', 37, 30),\n",
       " ('onset', 2430)]"
      ]
     },
     "execution_count": 8,
     "metadata": {},
     "output_type": "execute_result"
    }
   ],
   "source": [
    "tokenized_sequence[0:150]"
   ]
  },
  {
   "cell_type": "code",
   "execution_count": 10,
   "id": "c8577d3b",
   "metadata": {},
   "outputs": [
    {
     "data": {
      "text/plain": [
       "[('piano', 68, 60),\n",
       " ('onset', 4590),\n",
       " ('dur', 4340),\n",
       " ('piano', 44, 45),\n",
       " ('onset', 4600),\n",
       " ('dur', 4330),\n",
       " '<T>',\n",
       " ('piano', 63, 45),\n",
       " ('onset', 870),\n",
       " ('dur', 3060),\n",
       " ('piano', 59, 30),\n",
       " ('onset', 890),\n",
       " ('dur', 3040),\n",
       " ('piano', 51, 30),\n",
       " ('onset', 930),\n",
       " ('dur', 3000),\n",
       " ('piano', 56, 30),\n",
       " ('onset', 940),\n",
       " ('dur', 3000),\n",
       " '<E>']"
      ]
     },
     "execution_count": 10,
     "metadata": {},
     "output_type": "execute_result"
    }
   ],
   "source": [
    "tokenized_sequence[-20:]"
   ]
  },
  {
   "cell_type": "code",
   "execution_count": 15,
   "id": "aed28e5a",
   "metadata": {},
   "outputs": [
    {
     "name": "stdout",
     "output_type": "stream",
     "text": [
      "[[63, 75, 0, 920], [64, 75, 860, 740], [63, 75, 1320, 280], [68, 60, 1470, 820], [71, 75, 1480, 830], [62, 75, 1490, 790], [70, 75, 2180, 1090], [61, 60, 2180, 1090], [67, 60, 2180, 1080], [39, 45, 2180, 1080], [68, 60, 3040, 3280], [44, 45, 3060, 3260], [51, 30, 4100, 2220], [56, 30, 4120, 2200], [59, 30, 4130, 2200], [63, 30, 4130, 2180], '<T>', [70, 45, 460, 860], [71, 60, 840, 480], [73, 75, 1110, 300], [75, 75, 1360, 620], [78, 75, 1840, 180], [76, 60, 1940, 780], [75, 60, 2570, 890], [80, 60, 2950, 510], [75, 60, 3470, 2070], [68, 45, 4300, 1240], [71, 45, 4330, 1210], [63, 30, 4340, 1200], [56, 30, 4340, 1200], [75, 75, 4920, 620], '<T>', [73, 75, 370, 180], [76, 75, 500, 720], [70, 60, 500, 140], [61, 45, 520, 700], [49, 60, 530, 700], [68, 45, 530, 690], [75, 75, 1130, 660], [68, 45, 1150, 640], [71, 45, 1160, 150], [56, 45, 1160, 630], [44, 45, 1170, 620], [73, 60, 1630, 160], [71, 60, 1740, 600], [70, 60, 2220, 220], [73, 60, 2390, 810], [68, 45, 2410, 790], [64, 45, 2410, 790], [49, 30, 2420, 780], [37, 30, 2430, 770], [71, 60, 3120, 1500], [63, 45, 3130, 1490], [32, 45, 3140, 1480], [68, 45, 3140, 1480], [44, 45, 3150, 1470], [64, 75, 3840, 780], [63, 75, 4310, 310], [71, 75, 4500, 870], [68, 60, 4510, 830], [62, 60, 4520, 820], '<T>', [70, 60, 250, 1030], [61, 60, 250, 1030], [67, 60, 260, 1020], [39, 45, 270, 1010], [44, 45, 1100, 2720], [68, 60, 1110, 2710], [51, 30, 2020, 1800], [59, 30, 2030, 1790], [63, 45, 2040, 1780], [56, 15, 2070, 1750], [71, 60, 2620, 1200], [59, 45, 2620, 1200], [51, 30, 2640, 1180], [63, 45, 2640, 1170], [56, 30, 2660, 1160], [75, 75, 3220, 590], [73, 75, 3650, 190], [76, 75, 3780, 760], [70, 60, 3790, 150], [61, 60, 3810, 740], [68, 60, 3810, 110], [49, 60, 3810, 720], [68, 30, 3920, 620], [75, 75, 4410, 770], [68, 30, 4440, 740], [71, 45, 4440, 740], [56, 45, 4470, 720], [44, 45, 4470, 720], [73, 60, 4900, 280], '<T>', [71, 75, 10, 500], [70, 60, 440, 250], [73, 75, 640, 800], [49, 45, 640, 800], [37, 30, 650, 790], [68, 45, 660, 790], [64, 60, 660, 780], [71, 60, 1340, 890]]\n",
      "[('prefix', 'instrument', 'piano'), '<S>', ('piano', 63, 75), ('onset', 0), ('dur', 920), ('piano', 64, 75), ('onset', 860), ('dur', 740), ('piano', 63, 75), ('onset', 1320), ('dur', 280), ('piano', 39, 45), ('onset', 2180), ('dur', 1080), ('piano', 63, 30), ('onset', 4130), ('dur', 2180), '<T>', ('piano', 70, 45), ('onset', 460), ('dur', 860), ('piano', 71, 60), ('onset', 840), ('dur', 480), ('piano', 73, 75), ('onset', 1110), ('dur', 300), ('piano', 75, 75), ('onset', 1360), ('dur', 620), ('piano', 78, 75), ('onset', 1840), ('dur', 180), ('piano', 76, 60), ('onset', 1940), ('dur', 780), ('piano', 75, 60), ('onset', 2570), ('dur', 890), ('piano', 80, 60), ('onset', 2950), ('dur', 510), ('piano', 75, 60), ('onset', 3470), ('dur', 2070), ('piano', 56, 30), ('onset', 4340), ('dur', 1200), ('piano', 75, 75), ('onset', 4920), ('dur', 620), '<T>', ('piano', 73, 75), ('onset', 370), ('dur', 180), ('piano', 68, 45), ('onset', 530), ('dur', 690), ('piano', 44, 45), ('onset', 1170), ('dur', 620), ('piano', 73, 60), ('onset', 1630), ('dur', 160), ('piano', 71, 60), ('onset', 1740), ('dur', 600), ('piano', 70, 60), ('onset', 2220), ('dur', 220), ('piano', 37, 30), ('onset', 2430), ('dur', 770), ('piano', 44, 45), ('onset', 3150), ('dur', 1470), ('piano', 64, 75), ('onset', 3840), ('dur', 780), ('piano', 63, 75), ('onset', 4310), ('dur', 310), '<T>', ('piano', 39, 45), ('onset', 270), ('dur', 1010), ('piano', 68, 60), ('onset', 1110), ('dur', 2710), ('piano', 56, 15), ('onset', 2070), ('dur', 1750), ('piano', 56, 30), ('onset', 2660), ('dur', 1160), ('piano', 75, 75), ('onset', 3220), ('dur', 590), ('piano', 73, 75), ('onset', 3650)] \n",
      "\n"
     ]
    }
   ],
   "source": [
    "# Define a function to flatten the tokenized sequence\n",
    "def flatten(sequence):\n",
    "    flattened_sequence = []\n",
    "    note_info = []\n",
    "    for i in range(len(sequence)):\n",
    "        if sequence[i] == \"<T>\":\n",
    "            flattened_sequence.append(sequence[i])\n",
    "        if sequence[i][0] == \"piano\":\n",
    "            note_info.append(sequence[i][1])\n",
    "            note_info.append(sequence[i][2])\n",
    "        elif sequence[i][0] == \"onset\":\n",
    "            note_info.append(sequence[i][1])\n",
    "        elif sequence[i][0] == \"dur\":\n",
    "            note_info.append(sequence[i][1])\n",
    "            flattened_sequence.append(note_info) \n",
    "            note_info = []\n",
    "\n",
    "    return flattened_sequence\n",
    "\n",
    "def skyline(sequence: list, diff_threshold=50):\n",
    "    melody = []\n",
    "    pitch = 0\n",
    "    velocity = sequence[0][1]\n",
    "    onset = sequence[0][2]\n",
    "    duration = sequence[0][3]\n",
    "    i = 0\n",
    "\n",
    "    for i in range(len(sequence)):\n",
    "        if type(sequence[i]) != str:\n",
    "            current_pitch = sequence[i][0]\n",
    "            current_velocity = sequence[i][1]\n",
    "            current_onset = sequence[i][2]\n",
    "            current_duration = sequence[i][3]\n",
    "\n",
    "            # Get next note onset\n",
    "            if i+2 < len(sequence):\n",
    "                if type(sequence[i+1]) == str and type(sequence[i+2]) == str:\n",
    "                    next_onset = 5000\n",
    "                elif type(sequence[i+1]) == str and type(sequence[i+2]) != str:\n",
    "                    next_onset = sequence[i+2][2]\n",
    "                else:\n",
    "                    next_onset = sequence[i+1][2]\n",
    "            else:\n",
    "                next_onset = sequence[-1][2]\n",
    "            \n",
    "            # Get difference between current and next onset\n",
    "            diff_next_curr_onset = abs(next_onset - current_onset)\n",
    "\n",
    "            # Get difference between current and previous onset\n",
    "            diff_curr_prev_onset = abs(current_onset - onset)\n",
    "\n",
    "            # Check if current_onset is different from next onset\n",
    "            if diff_next_curr_onset > diff_threshold:\n",
    "                # Check if current_onset is different from previous onset and if current_pitch is greater than pitch\n",
    "                if diff_curr_prev_onset < diff_threshold and current_pitch > pitch:\n",
    "                    pitch = current_pitch\n",
    "                    onset = current_onset\n",
    "                    duration = current_duration\n",
    "                    velocity = current_velocity\n",
    "                elif diff_curr_prev_onset >= diff_threshold:\n",
    "                    pitch = current_pitch\n",
    "                    onset = current_onset\n",
    "                    duration = current_duration\n",
    "                    velocity = current_velocity\n",
    "                else:\n",
    "                    continue\n",
    "                # Append the last note\n",
    "                melody.append((\"piano\", pitch, velocity))\n",
    "                melody.append((\"onset\", onset))\n",
    "                melody.append((\"dur\", duration))\n",
    "\n",
    "            else:\n",
    "                if current_pitch > pitch:\n",
    "                    pitch = current_pitch\n",
    "                    onset = current_onset\n",
    "                    duration = current_duration\n",
    "                    velocity = current_velocity\n",
    "                else:\n",
    "                    continue\n",
    "        else:\n",
    "            melody.append(sequence[i])\n",
    "    return melody\n",
    "                \n",
    "# Call the flatten function\n",
    "flattened_sequence = flatten(tokenized_sequence)\n",
    "print(flattened_sequence[0:100])\n",
    "\n",
    "# Call the skyline function\n",
    "melody = skyline(flattened_sequence, diff_threshold=30)\n",
    "melody = tokenized_sequence[0:2] + melody + tokenized_sequence[-1:]\n",
    "print(melody[0:100], '\\n')"
   ]
  },
  {
   "cell_type": "code",
   "execution_count": 16,
   "id": "e92edb34",
   "metadata": {},
   "outputs": [
    {
     "data": {
      "text/plain": [
       "[('onset', 2440),\n",
       " ('dur', 480),\n",
       " ('piano', 39, 45),\n",
       " ('onset', 3620),\n",
       " ('dur', 1190),\n",
       " '<T>',\n",
       " ('piano', 59, 30),\n",
       " ('onset', 890),\n",
       " ('dur', 3040),\n",
       " '<E>']"
      ]
     },
     "execution_count": 16,
     "metadata": {},
     "output_type": "execute_result"
    }
   ],
   "source": [
    "melody[-10:]"
   ]
  },
  {
   "cell_type": "code",
   "execution_count": 19,
   "id": "870951c3",
   "metadata": {},
   "outputs": [
    {
     "name": "stdout",
     "output_type": "stream",
     "text": [
      "['<S>', ('piano', 67, 90), ('onset', 0), ('dur', 570), ('piano', 65, 90), ('onset', 560), ('dur', 530), ('piano', 70, 90), ('onset', 1070), ('dur', 550), ('piano', 72, 90), ('onset', 1580), ('dur', 250), ('piano', 77, 90), ('onset', 1820), ('dur', 290), ('piano', 74, 90), ('onset', 2070), ('dur', 550), ('piano', 72, 90), ('onset', 2580), ('dur', 280), ('piano', 77, 90), ('onset', 2830), ('dur', 300), ('piano', 74, 90), ('onset', 3100), ('dur', 550), ('piano', 70, 90), ('onset', 3600), ('dur', 550), ('piano', 72, 90), ('onset', 4120), ('dur', 590), ('piano', 67, 90), ('onset', 4660), ('dur', 550), '<T>', ('piano', 65, 90), ('onset', 180), ('dur', 580), ('piano', 67, 90), ('onset', 730), ('dur', 500), ('piano', 55, 60), ('onset', 770), ('dur', 470), ('piano', 58, 60), ('onset', 770), ('dur', 470), ('piano', 43, 60), ('onset', 770), ('dur', 470), ('piano', 62, 45), ('onset', 770), ('dur', 460), ('piano', 65, 75), ('onset', 1240), ('dur', 530), ('piano', 45, 60), ('onset', 1260), ('dur', 500), ('piano', 60, 60), ('onset', 1260), ('dur', 500), ('piano', 57, 60), ('onset', 1270), ('dur', 490), ('piano', 53, 60), ('onset', 1270), ('dur', 490), ('piano', 70, 90), ('onset', 1760), ('dur', 460), ('piano', 62, 45), ('onset', 1770), ('dur', 70), ('piano', 58, 75), ('onset', 1770), ('dur', 450), ('piano', 43, 75), ('onset', 1770), ('dur', 450), ('piano', 55, 75), ('onset', 1780), ('dur', 100), ('piano', 72, 90), ('onset', 2250), ('dur', 490), ('piano', 69, 75), ('onset', 2250), ('dur', 490), ('piano', 60, 75), ('onset', 2270), ('dur', 470), ('piano', 41, 75), ('onset', 2270), ('dur', 470), ('piano', 53, 75), ('onset', 2270), ('dur', 50), ('piano', 77, 90), ('onset', 2500), ('dur', 240), ('piano', 74, 90), ('onset', 2760), ('dur', 460), ('piano', 38, 75), ('onset', 2780), ('dur', 440), ('piano', 65, 75), ('onset', 2780), ('dur', 440), ('piano', 50, 75), ('onset', 2780), ('dur', 430), ('piano', 69, 60), ('onset', 2790), ('dur', 430), ('piano', 72, 90), ('onset', 3240), ('dur', 490), ('piano', 60, 75), ('onset', 3250), ('dur', 480), ('piano', 69, 75), ('onset', 3250), ('dur', 480), ('piano', 41, 75), ('onset', 3250), ('dur', 470), ('piano', 53, 75), ('onset', 3260), ('dur', 460), ('piano', 77, 90), ('onset', 3460), ('dur', 260), ('piano', 74, 90), ('onset', 3740), ('dur', 460), ('piano', 58, 75), ('onset', 3750), ('dur', 450), ('piano', 65, 75), ('onset', 3750), ('dur', 440), ('piano', 46, 75), ('onset', 3750), ('dur', 440)]\n"
     ]
    }
   ],
   "source": [
    "print(tokenized_sequence[1:150])"
   ]
  },
  {
   "cell_type": "code",
   "execution_count": 17,
   "id": "5356725b",
   "metadata": {},
   "outputs": [
    {
     "name": "stdout",
     "output_type": "stream",
     "text": [
      "1549\n",
      "504\n"
     ]
    }
   ],
   "source": [
    "print(len(tokenized_sequence))\n",
    "print(len(melody))"
   ]
  },
  {
   "cell_type": "code",
   "execution_count": 18,
   "id": "3c2ed810",
   "metadata": {},
   "outputs": [],
   "source": [
    "mid_dict = tokenizer.detokenize(melody) # mid_dict is a MidiDict object\n",
    "mid = mid_dict.to_midi() # mid is a mido.MidiFile\n",
    "mid.save('test_file.mid')"
   ]
  },
  {
   "cell_type": "code",
   "execution_count": null,
   "id": "35e12d71",
   "metadata": {},
   "outputs": [],
   "source": []
  }
 ],
 "metadata": {
  "kernelspec": {
   "display_name": "music",
   "language": "python",
   "name": "python3"
  },
  "language_info": {
   "codemirror_mode": {
    "name": "ipython",
    "version": 3
   },
   "file_extension": ".py",
   "mimetype": "text/x-python",
   "name": "python",
   "nbconvert_exporter": "python",
   "pygments_lexer": "ipython3",
   "version": "3.10.14"
  }
 },
 "nbformat": 4,
 "nbformat_minor": 5
}
