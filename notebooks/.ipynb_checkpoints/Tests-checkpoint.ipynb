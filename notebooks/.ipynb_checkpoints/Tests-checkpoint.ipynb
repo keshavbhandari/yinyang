{
 "cells": [
  {
   "cell_type": "code",
   "execution_count": 6,
   "id": "8396050f",
   "metadata": {},
   "outputs": [],
   "source": [
    "import yaml\n",
    "import jsonlines\n",
    "\n",
    "config_path = r\"C:\\Users\\Keshav\\Desktop\\QMUL\\Research\\PhraseBuilder\\configs\\configs_windows.yaml\"\n",
    "\n",
    "# Load config file\n",
    "with open(config_path, 'r') as f:\n",
    "    configs = yaml.safe_load(f)\n",
    "    \n",
    "artifact_folder = configs[\"raw_data\"][\"artifact_folder\"]\n",
    "mono_folder = configs[\"raw_data\"][\"mono_folder\"]\n",
    "json_folder = configs[\"raw_data\"][\"json_folder\"]\n",
    "raw_data_folders = configs[\"raw_data\"][\"raw_data_folders\"]"
   ]
  },
  {
   "cell_type": "code",
   "execution_count": 10,
   "id": "ff4def3f",
   "metadata": {},
   "outputs": [],
   "source": [
    "def load_jsonl(file_path):\n",
    "    data = []\n",
    "    with jsonlines.open(file_path) as reader:\n",
    "        for line in reader:\n",
    "            data.append(line)\n",
    "    return data\n",
    "\n",
    "for dataset_name, dataset_info in raw_data_folders.items():\n",
    "    annotation_file = load_jsonl(dataset_info.get('annotation_filepath'))\n",
    "    break"
   ]
  },
  {
   "cell_type": "code",
   "execution_count": 106,
   "id": "e50f2d79",
   "metadata": {},
   "outputs": [
    {
     "name": "stdout",
     "output_type": "stream",
     "text": [
      "[None, None, None, None, None, None, None, None, None, None, None, None, None, None, '1', None, None, None, None, None, None, None, None, None, None, None, None, None, None, None, None, None, None, None, None, None, None, None, None, None, None]\n"
     ]
    }
   ],
   "source": [
    "print(annotation_file[i]['features']['restduration_frac'])"
   ]
  },
  {
   "cell_type": "code",
   "execution_count": 15,
   "id": "f7917ea9",
   "metadata": {},
   "outputs": [
    {
     "name": "stdout",
     "output_type": "stream",
     "text": [
      "['6/8', '6/8', '6/8', '6/8', '6/8', '6/8', '6/8', '6/8', '6/8', '6/8', '6/8', '6/8', '6/8', '6/8', '6/8', '6/8', '6/8', '6/8', '6/8', '6/8', '6/8', '6/8', '6/8', '6/8', '6/8', '6/8', '6/8', '6/8', '6/8', '6/8', '6/8', '6/8', '6/8', '6/8', '6/8', '6/8', '6/8', '6/8', '6/8', '6/8', '6/8', '6/8']\n",
      "[0.75, 0.25, 0.5, 0.75, 0.25, 0.5, 0.75, 0.25, 0.5, 1.0, 1.0, 0.5, 1.0, 0.5, 1.5, 1.0, 1.0, 0.5, 1.0, 0.5, 1.0, 0.5, 1.5, 1.0, 0.5, 1.0, 0.5, 0.75, 0.25, 0.5, 1.0, 1.0, 0.5, 1.0, 0.5, 1.0, 0.5, 1.0, 0.5, 2.5, 0.5, 1.0]\n",
      "['Dotted Eighth', '16th', 'Eighth', 'Dotted Eighth', '16th', 'Eighth', 'Dotted Eighth', '16th', 'Eighth', 'Quarter', 'Quarter', 'Eighth', 'Quarter', 'Eighth', 'Dotted Quarter', 'Quarter', 'Quarter', 'Eighth', 'Quarter', 'Eighth', 'Quarter', 'Eighth', 'Dotted Quarter', 'Quarter', 'Eighth', 'Quarter', 'Eighth', 'Dotted Eighth', '16th', 'Eighth', 'Quarter', 'Quarter', 'Eighth', 'Quarter', 'Eighth', 'Quarter', 'Eighth', 'Quarter', 'Eighth', 'Half tied to Eighth (2 1/2 total QL)', 'Eighth', 'Quarter']\n"
     ]
    }
   ],
   "source": [
    "i=0\n",
    "print(annotation_file[i]['features']['timesignature'])\n",
    "print(annotation_file[i]['features']['duration'])\n",
    "print(annotation_file[i]['features']['duration_fullname'])"
   ]
  },
  {
   "cell_type": "code",
   "execution_count": 16,
   "id": "72e19140",
   "metadata": {},
   "outputs": [
    {
     "name": "stdout",
     "output_type": "stream",
     "text": [
      "['3/4', '3/4', '3/4', '3/4', '3/4', '3/4', '3/4', '3/4', '3/4', '3/4', '3/4', '3/4', '3/4', '3/4', '3/4', '3/4', '3/4', '3/4', '3/4', '3/4', '3/4', '3/4', '3/4', '3/4', '3/4', '3/4', '3/4', '3/4', '3/4', '3/4', '3/4', '3/4', '3/4', '3/4', '3/4', '3/4', '3/4', '3/4', '3/4', '3/4', '3/4', '3/4', '3/4', '3/4', '3/4', '3/4', '3/4', '3/4', '3/4', '3/4', '3/4', '3/4', '3/4', '3/4']\n",
      "[1.0, 0.5, 0.5, 1.0, 1.0, 0.5, 0.5, 1.0, 1.0, 0.5, 0.5, 1.0, 1.0, 2.0, 1.0, 0.5, 0.5, 0.5, 0.5, 0.5, 0.5, 0.5, 0.5, 1.0, 1.0, 0.5, 0.5, 0.5, 0.5, 0.5, 0.5, 2.0, 0.25, 0.25, 0.5, 0.5, 0.5, 1.0, 0.25, 0.25, 0.5, 0.5, 0.5, 1.0, 0.25, 0.25, 0.5, 0.5, 0.5, 0.5, 0.5, 0.5, 0.5, 2.0]\n",
      "['Quarter', 'Eighth', 'Eighth', 'Quarter', 'Quarter', 'Eighth', 'Eighth', 'Quarter', 'Quarter', 'Eighth', 'Eighth', 'Quarter', 'Quarter', 'Half', 'Quarter', 'Eighth', 'Eighth', 'Eighth', 'Eighth', 'Eighth', 'Eighth', 'Eighth', 'Eighth', 'Quarter', 'Quarter', 'Eighth', 'Eighth', 'Eighth', 'Eighth', 'Eighth', 'Eighth', 'Half', '16th', '16th', 'Eighth', 'Eighth', 'Eighth', 'Quarter', '16th', '16th', 'Eighth', 'Eighth', 'Eighth', 'Quarter', '16th', '16th', 'Eighth', 'Eighth', 'Eighth', 'Eighth', 'Eighth', 'Eighth', 'Eighth', 'Half']\n"
     ]
    }
   ],
   "source": [
    "i=1\n",
    "print(annotation_file[i]['features']['timesignature'])\n",
    "print(annotation_file[i]['features']['duration'])\n",
    "print(annotation_file[i]['features']['duration_fullname'])"
   ]
  },
  {
   "cell_type": "code",
   "execution_count": 20,
   "id": "fe217189",
   "metadata": {},
   "outputs": [
    {
     "name": "stdout",
     "output_type": "stream",
     "text": [
      "['4/4', '4/4', '4/4', '4/4', '4/4', '4/4', '4/4', '4/4', '4/4', '4/4', '4/4', '4/4', '4/4', '4/4', '4/4', '4/4', '4/4', '4/4', '4/4', '4/4', '4/4', '4/4', '4/4', '4/4', '4/4', '4/4', '4/4', '4/4', '4/4', '4/4', '4/4', '4/4', '4/4', '4/4', '4/4', '4/4', '4/4', '4/4', '4/4', '4/4', '4/4']\n",
      "[0.5, 0.5, 1.0, 1.0, 1.0, 0.5, 0.5, 1.0, 0.5, 0.5, 1.0, 0.5, 0.5, 1.0, 0.5, 0.5, 0.5, 0.5, 1.0, 2.0, 1.0, 1.0, 0.5, 0.5, 1.0, 0.5, 0.5, 0.5, 0.5, 1.0, 1.5, 0.5, 1.0, 1.0, 1.5, 0.5, 1.5, 0.5, 1.0, 1.0, 2.0]\n",
      "['Eighth', 'Eighth', 'Quarter', 'Quarter', 'Quarter', 'Eighth', 'Eighth', 'Quarter', 'Eighth', 'Eighth', 'Quarter', 'Eighth', 'Eighth', 'Quarter', 'Eighth', 'Eighth', 'Eighth', 'Eighth', 'Quarter', 'Half', 'Quarter', 'Quarter', 'Eighth', 'Eighth', 'Quarter', 'Eighth', 'Eighth', 'Eighth', 'Eighth', 'Quarter', 'Dotted Quarter', 'Eighth', 'Quarter', 'Quarter', 'Dotted Quarter', 'Eighth', 'Dotted Quarter', 'Eighth', 'Quarter', 'Quarter', 'Half']\n"
     ]
    }
   ],
   "source": [
    "i=2\n",
    "print(annotation_file[i]['features']['timesignature'])\n",
    "print(annotation_file[i]['features']['duration'])\n",
    "print(annotation_file[i]['features']['duration_fullname'])"
   ]
  },
  {
   "cell_type": "code",
   "execution_count": 130,
   "id": "af95a15b",
   "metadata": {},
   "outputs": [
    {
     "name": "stdout",
     "output_type": "stream",
     "text": [
      "4/4 4.0\n"
     ]
    },
    {
     "data": {
      "text/plain": [
       "[[0, 0.5, 0, 55, 1.0, 91],\n",
       " [0, 1.0, 0, 55, 0.5, 91],\n",
       " [0, 2.0, 0, 55, 1.0, 91],\n",
       " [0, 3.0, 0, 55, 0.5, 91],\n",
       " [0, 3.5, 0, 60, 1.0, 91],\n",
       " [1, 0.5, 0, 52, 1.0, 91],\n",
       " [1, 1.5, 0, 55, 0.5, 91],\n",
       " [1, 2.0, 0, 53, 0.5, 91],\n",
       " [1, 3.0, 0, 53, 0.5, 91],\n",
       " [1, 3.5, 0, 58, 1.0, 91],\n",
       " [2, 0.5, 0, 58, 1.0, 91],\n",
       " [2, 1.5, 0, 57, 0.5, 91],\n",
       " [2, 2.0, 0, 59, 0.5, 91],\n",
       " [2, 2.5, 0, 60, 0.5, 91],\n",
       " [2, 3.0, 0, 55, 0.5, 91],\n",
       " [2, 3.5, 0, 55, 1.0, 91],\n",
       " [3, 0.5, 0, 53, 1.0, 91],\n",
       " [3, 2.5, 0, 52, 1.0, 91],\n",
       " [3, 3.5, 0, 55, 1.0, 91],\n",
       " [4, 0.5, 0, 55, 1.0, 91],\n",
       " [4, 1.5, 0, 55, 0.5, 91],\n",
       " [4, 2.0, 0, 54, 0.5, 91],\n",
       " [4, 2.5, 0, 54, 1.0, 91],\n",
       " [4, 3.5, 0, 60, 1.0, 91],\n",
       " [5, 0.5, 0, 60, 1.0, 91],\n",
       " [5, 1.5, 0, 60, 0.5, 91],\n",
       " [5, 2.0, 0, 59, 0.5, 91],\n",
       " [5, 3.0, 0, 59, 0.5, 91],\n",
       " [5, 3.5, 0, 62, 1.0, 91],\n",
       " [6, 0.5, 0, 62, 1.0, 91],\n",
       " [6, 1.5, 0, 62, 0.5, 91],\n",
       " [6, 2.0, 0, 52, 0.5, 91],\n",
       " [6, 2.5, 0, 60, 0.5, 91],\n",
       " [6, 3.0, 0, 57, 0.5, 91],\n",
       " [6, 3.5, 0, 55, 1.0, 91],\n",
       " [7, 0.5, 0, 59, 0.5, 91],\n",
       " [7, 1.0, 0, 57, 0.5, 91],\n",
       " [7, 1.5, 0, 55, 2.0, 91],\n",
       " [7, 3.5, 0, 50, 1.0, 91],\n",
       " [8, 0.5, 0, 50, 1.0, 91],\n",
       " [8, 1.5, 0, 51, 1.0, 91],\n",
       " [8, 2.5, 0, 51, 1.0, 91],\n",
       " [8, 3.5, 0, 52, 1.0, 91],\n",
       " [9, 0.5, 0, 52, 1.0, 91],\n",
       " [9, 1.5, 0, 53, 1.0, 91],\n",
       " [9, 2.5, 0, 53, 1.0, 91],\n",
       " [9, 3.5, 0, 54, 1.0, 91],\n",
       " [10, 0.5, 0, 54, 1.0, 91],\n",
       " [10, 1.5, 0, 55, 1.0, 91],\n",
       " [10, 2.5, 0, 55, 1.0, 91],\n",
       " [10, 3.5, 0, 60, 1.0, 91],\n",
       " [11, 0.5, 0, 60, 1.0, 91],\n",
       " [11, 1.5, 0, 60, 3.0, 91],\n",
       " [12, 0.5, 0, 60, 0.25, 91],\n",
       " [12, 0.75, 0, 59, 0.25, 91],\n",
       " [12, 1.0, 0, 57, 0.25, 91],\n",
       " [12, 1.25, 0, 55, 0.25, 91],\n",
       " [12, 1.5, 0, 55, 2.0, 91],\n",
       " [13, 0.0, 0, 60, 1.0, 91],\n",
       " [13, 1.0, 0, 55, 0.5, 91],\n",
       " [13, 1.5, 0, 57, 1.5, 91],\n",
       " [13, 3.0, 0, 57, 0.5, 91],\n",
       " [13, 3.5, 0, 62, 0.5, 91],\n",
       " [14, 0.0, 0, 60, 0.5, 91],\n",
       " [14, 0.5, 0, 59, 0.5, 91],\n",
       " [14, 1.0, 0, 57, 0.5, 91],\n",
       " [14, 2.5, 0, 59, 1.0, 91],\n",
       " [14, 3.5, 0, 60, 1.0, 91],\n",
       " [15, 0.5, 0, 55, 1.0, 91],\n",
       " [15, 1.5, 0, 57, 0.5, 91],\n",
       " [15, 2.0, 0, 65, 0.5, 91],\n",
       " [15, 2.5, 0, 64, 0.5, 91],\n",
       " [15, 3.0, 0, 62, 0.5, 91],\n",
       " [15, 3.5, 0, 60, 1.0, 91],\n",
       " [16, 0.5, 0, 59, 1.0, 91],\n",
       " [16, 1.5, 0, 60, 2.0, 91]]"
      ]
     },
     "execution_count": 130,
     "metadata": {},
     "output_type": "execute_result"
    }
   ],
   "source": [
    "i = 1105\n",
    "\n",
    "time_signature = annotation_file[i]['features']['timesignature'][0]\n",
    "numerator = int(time_signature.split(\"/\")[0])\n",
    "denominator = int(time_signature.split(\"/\")[1])\n",
    "if denominator == 4:\n",
    "    beats_in_bar = numerator * (denominator / 8) * 2\n",
    "elif denominator == 8:\n",
    "    beats_in_bar = numerator * (denominator / 8) / 2\n",
    "elif denominator == 2:\n",
    "    beats_in_bar = numerator * (denominator / 8) * 8\n",
    "elif denominator == 1:\n",
    "    beats_in_bar = numerator * (denominator / 8) * 32\n",
    "print(time_signature, beats_in_bar)\n",
    "    \n",
    "pitches = annotation_file[i]['features']['midipitch']\n",
    "durations = annotation_file[i]['features']['duration']\n",
    "next_note_rest_value = annotation_file[i]['features']['restduration_frac']\n",
    "\n",
    "encoding = []\n",
    "bar = 0\n",
    "onset = 0\n",
    "for idx, pitch_value in enumerate(pitches):\n",
    "    note_info = []\n",
    "    if idx == 0:\n",
    "        # Check if previous note was a rest\n",
    "        if next_note_rest_value[idx] is None:\n",
    "            rest = 0\n",
    "        else:            \n",
    "            if \"/\" in next_note_rest_value[idx]:\n",
    "                rest = float(int(next_note_rest_value[idx].split(\"/\")[0]) / int(next_note_rest_value[idx].split(\"/\")[1]))\n",
    "            else:\n",
    "                rest = int(next_note_rest_value[idx])\n",
    "                \n",
    "        note_info.append([bar, onset+rest, 0, pitches[idx], durations[idx], 91])\n",
    "    else:\n",
    "        # Check if previous note was a rest\n",
    "        if next_note_rest_value[idx] is None:\n",
    "            rest = 0\n",
    "        else:            \n",
    "            if \"/\" in next_note_rest_value[idx]:\n",
    "                rest = float(int(next_note_rest_value[idx].split(\"/\")[0]) / int(next_note_rest_value[idx].split(\"/\")[1]))\n",
    "            else:\n",
    "                rest = int(next_note_rest_value[idx])\n",
    "        \n",
    "        onset += durations[idx-1] + rest  \n",
    "        \n",
    "        if onset >= beats_in_bar:\n",
    "            previous_onset = encoding[-1][1]\n",
    "            onset = (previous_onset + durations[idx-1] + rest) % beats_in_bar\n",
    "            bar += 1\n",
    "        note_info.append([bar, onset, 0, pitches[idx], durations[idx], 91])\n",
    "    encoding+=note_info\n",
    "    \n",
    "encoding"
   ]
  },
  {
   "cell_type": "code",
   "execution_count": 121,
   "id": "daa95e87",
   "metadata": {},
   "outputs": [],
   "source": [
    "from music21 import stream, meter, note, metadata, tempo\n",
    "\n",
    "def encoding_to_midi(encoding, tempo, time_signature):\n",
    "\n",
    "    # Create a Score\n",
    "    score = stream.Score()\n",
    "    score.metadata = metadata.Metadata()\n",
    "    score.metadata.title = \"Your MIDI Score\"\n",
    "\n",
    "    # Create a Part for the instrument\n",
    "    part = stream.Part()\n",
    "\n",
    "    # Set the initial tempo\n",
    "    initial_tempo = tempo_info.get(0, 120)\n",
    "    part.append(tempo.MetronomeMark(number=initial_tempo))\n",
    "\n",
    "    # Set the time signature\n",
    "    time_signature = meter.TimeSignature(time_signature)\n",
    "\n",
    "    # Add the time signature to the Part\n",
    "    part.append(time_signature)\n",
    "\n",
    "    # Iterate through the MIDI data and create Note objects\n",
    "    for entry in encoding:\n",
    "        bar_number, onset_position, instrument_number, pitch, duration, velocity = entry\n",
    "\n",
    "        # Create a Note\n",
    "        n = note.Note(pitch, quarterLength=duration)\n",
    "        n.volume.velocity = velocity\n",
    "\n",
    "        # Calculate the offset position\n",
    "        offset_position = bar_number * time_signature.barDuration.quarterLength + onset_position\n",
    "\n",
    "        # Add the Note to the Part at the calculated offset position\n",
    "        part.insert(offset_position, n)\n",
    "\n",
    "        # Check if there is a tempo change for the next bar\n",
    "        next_tempo = tempo_info.get(bar_number + 1, None)\n",
    "        if next_tempo is not None:\n",
    "            part.append(tempo.MetronomeMark(number=next_tempo))\n",
    "\n",
    "    # Add the Part to the Score\n",
    "    score.append(part)\n",
    "\n",
    "    # Write the Score to a MIDI file\n",
    "    midi_file_path = \"output.mid\"\n",
    "    score.write('midi', fp=midi_file_path)\n",
    "\n",
    "    print(f\"MIDI file '{midi_file_path}' generated successfully.\")"
   ]
  },
  {
   "cell_type": "code",
   "execution_count": 124,
   "id": "556f443a",
   "metadata": {},
   "outputs": [
    {
     "name": "stdout",
     "output_type": "stream",
     "text": [
      "MIDI file 'output.mid' generated successfully.\n"
     ]
    }
   ],
   "source": [
    "# Tempo information as a dictionary {bar_number: tempo}\n",
    "tempo_info = {0: 120, 2: 100}\n",
    "\n",
    "encoding_to_midi(encoding, tempo, time_signature)"
   ]
  },
  {
   "cell_type": "code",
   "execution_count": null,
   "id": "826dd478",
   "metadata": {},
   "outputs": [],
   "source": []
  }
 ],
 "metadata": {
  "kernelspec": {
   "display_name": "Python 3 (ipykernel)",
   "language": "python",
   "name": "python3"
  },
  "language_info": {
   "codemirror_mode": {
    "name": "ipython",
    "version": 3
   },
   "file_extension": ".py",
   "mimetype": "text/x-python",
   "name": "python",
   "nbconvert_exporter": "python",
   "pygments_lexer": "ipython3",
   "version": "3.10.13"
  }
 },
 "nbformat": 4,
 "nbformat_minor": 5
}
