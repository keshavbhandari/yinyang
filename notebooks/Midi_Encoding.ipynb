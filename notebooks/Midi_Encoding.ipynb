{
 "cells": [
  {
   "cell_type": "code",
   "execution_count": 1,
   "id": "3adda391",
   "metadata": {},
   "outputs": [
    {
     "name": "stdout",
     "output_type": "stream",
     "text": [
      "/homes/kb658/yinyang\n"
     ]
    }
   ],
   "source": [
    "%cd /homes/kb658/yinyang/"
   ]
  },
  {
   "cell_type": "code",
   "execution_count": 2,
   "id": "8396050f",
   "metadata": {},
   "outputs": [],
   "source": [
    "import yaml\n",
    "import jsonlines\n",
    "\n",
    "config_path = \"/homes/kb658/yinyang/configs/configs_os.yaml\"\n",
    "\n",
    "# Load config file\n",
    "with open(config_path, 'r') as f:\n",
    "    configs = yaml.safe_load(f)\n",
    "    \n",
    "artifact_folder = configs[\"raw_data\"][\"artifact_folder\"]\n",
    "mono_folder = configs[\"raw_data\"][\"mono_folder\"]\n",
    "json_folder = configs[\"raw_data\"][\"json_folder\"]\n",
    "raw_data_folders = configs[\"raw_data\"][\"raw_data_folders\"]"
   ]
  },
  {
   "cell_type": "code",
   "execution_count": 3,
   "id": "c48e2b59",
   "metadata": {},
   "outputs": [],
   "source": [
    "import glob\n",
    "\n",
    "data_path = raw_data_folders['classical']['folder_path']\n",
    "\n",
    "# Get all the midi files in the data path recursively\n",
    "midi_files = glob.glob(data_path + '/**/*.midi', recursive=True)"
   ]
  },
  {
   "cell_type": "code",
   "execution_count": 4,
   "id": "dde9a9b8",
   "metadata": {},
   "outputs": [
    {
     "data": {
      "text/plain": [
       "1276"
      ]
     },
     "execution_count": 4,
     "metadata": {},
     "output_type": "execute_result"
    }
   ],
   "source": [
    "len(midi_files)"
   ]
  },
  {
   "cell_type": "code",
   "execution_count": 15,
   "id": "49043ca0",
   "metadata": {},
   "outputs": [
    {
     "name": "stdout",
     "output_type": "stream",
     "text": [
      "/import/c4dm-datasets/maestro-v3.0.0/2018/MIDI-Unprocessed_Recital5-7_MID--AUDIO_07_R1_2018_wav--4.midi\n"
     ]
    }
   ],
   "source": [
    "from aria.data.midi import MidiDict\n",
    "from aria.tokenizer import AbsTokenizer\n",
    "\n",
    "tokenizer = AbsTokenizer()\n",
    "midi_file_path = \"/import/c4dm-datasets/maestro-v3.0.0/2018/MIDI-Unprocessed_Recital5-7_MID--AUDIO_07_R1_2018_wav--4.midi\" # midi_files[1]\n",
    "print(midi_file_path)\n",
    "mid = MidiDict.from_midi(midi_file_path)\n",
    "tokenized_sequence = tokenizer.tokenize(mid)"
   ]
  },
  {
   "cell_type": "code",
   "execution_count": 8,
   "id": "1f343789",
   "metadata": {},
   "outputs": [],
   "source": [
    "# midi_file_path\n",
    "\n",
    "# # Copy this file to the current directory\n",
    "# import shutil\n",
    "# import os\n",
    "\n",
    "# shutil.copy(midi_file_path, 'test.midi')"
   ]
  },
  {
   "cell_type": "code",
   "execution_count": 16,
   "id": "51f6628b",
   "metadata": {},
   "outputs": [
    {
     "data": {
      "text/plain": [
       "48136"
      ]
     },
     "execution_count": 16,
     "metadata": {},
     "output_type": "execute_result"
    }
   ],
   "source": [
    "len(tokenized_sequence)"
   ]
  },
  {
   "cell_type": "code",
   "execution_count": 17,
   "id": "53c503e4",
   "metadata": {},
   "outputs": [
    {
     "data": {
      "text/plain": [
       "[('prefix', 'instrument', 'piano'),\n",
       " '<S>',\n",
       " ('piano', 67, 90),\n",
       " ('onset', 0),\n",
       " ('dur', 570),\n",
       " ('piano', 65, 90),\n",
       " ('onset', 560),\n",
       " ('dur', 530),\n",
       " ('piano', 70, 90),\n",
       " ('onset', 1070),\n",
       " ('dur', 550),\n",
       " ('piano', 72, 90),\n",
       " ('onset', 1580),\n",
       " ('dur', 250),\n",
       " ('piano', 77, 90),\n",
       " ('onset', 1820),\n",
       " ('dur', 290),\n",
       " ('piano', 74, 90),\n",
       " ('onset', 2070),\n",
       " ('dur', 550),\n",
       " ('piano', 72, 90),\n",
       " ('onset', 2580),\n",
       " ('dur', 280),\n",
       " ('piano', 77, 90),\n",
       " ('onset', 2830),\n",
       " ('dur', 300),\n",
       " ('piano', 74, 90),\n",
       " ('onset', 3100),\n",
       " ('dur', 550),\n",
       " ('piano', 70, 90),\n",
       " ('onset', 3600),\n",
       " ('dur', 550),\n",
       " ('piano', 72, 90),\n",
       " ('onset', 4120),\n",
       " ('dur', 590),\n",
       " ('piano', 67, 90),\n",
       " ('onset', 4660),\n",
       " ('dur', 550),\n",
       " '<T>',\n",
       " ('piano', 65, 90),\n",
       " ('onset', 180),\n",
       " ('dur', 580),\n",
       " ('piano', 67, 90),\n",
       " ('onset', 730),\n",
       " ('dur', 500),\n",
       " ('piano', 55, 60),\n",
       " ('onset', 770),\n",
       " ('dur', 470),\n",
       " ('piano', 58, 60),\n",
       " ('onset', 770),\n",
       " ('dur', 470),\n",
       " ('piano', 43, 60),\n",
       " ('onset', 770),\n",
       " ('dur', 470),\n",
       " ('piano', 62, 45),\n",
       " ('onset', 770),\n",
       " ('dur', 460),\n",
       " ('piano', 65, 75),\n",
       " ('onset', 1240),\n",
       " ('dur', 530),\n",
       " ('piano', 45, 60),\n",
       " ('onset', 1260),\n",
       " ('dur', 500),\n",
       " ('piano', 60, 60),\n",
       " ('onset', 1260),\n",
       " ('dur', 500),\n",
       " ('piano', 57, 60),\n",
       " ('onset', 1270),\n",
       " ('dur', 490),\n",
       " ('piano', 53, 60),\n",
       " ('onset', 1270),\n",
       " ('dur', 490),\n",
       " ('piano', 70, 90),\n",
       " ('onset', 1760),\n",
       " ('dur', 460),\n",
       " ('piano', 62, 45),\n",
       " ('onset', 1770),\n",
       " ('dur', 70),\n",
       " ('piano', 58, 75),\n",
       " ('onset', 1770),\n",
       " ('dur', 450),\n",
       " ('piano', 43, 75),\n",
       " ('onset', 1770),\n",
       " ('dur', 450),\n",
       " ('piano', 55, 75),\n",
       " ('onset', 1780),\n",
       " ('dur', 100),\n",
       " ('piano', 72, 90),\n",
       " ('onset', 2250),\n",
       " ('dur', 490),\n",
       " ('piano', 69, 75),\n",
       " ('onset', 2250),\n",
       " ('dur', 490),\n",
       " ('piano', 60, 75),\n",
       " ('onset', 2270),\n",
       " ('dur', 470),\n",
       " ('piano', 41, 75),\n",
       " ('onset', 2270),\n",
       " ('dur', 470),\n",
       " ('piano', 53, 75),\n",
       " ('onset', 2270),\n",
       " ('dur', 50),\n",
       " ('piano', 77, 90),\n",
       " ('onset', 2500),\n",
       " ('dur', 240),\n",
       " ('piano', 74, 90),\n",
       " ('onset', 2760),\n",
       " ('dur', 460),\n",
       " ('piano', 38, 75),\n",
       " ('onset', 2780),\n",
       " ('dur', 440),\n",
       " ('piano', 65, 75),\n",
       " ('onset', 2780),\n",
       " ('dur', 440),\n",
       " ('piano', 50, 75),\n",
       " ('onset', 2780),\n",
       " ('dur', 430),\n",
       " ('piano', 69, 60),\n",
       " ('onset', 2790),\n",
       " ('dur', 430),\n",
       " ('piano', 72, 90),\n",
       " ('onset', 3240),\n",
       " ('dur', 490),\n",
       " ('piano', 60, 75),\n",
       " ('onset', 3250),\n",
       " ('dur', 480),\n",
       " ('piano', 69, 75),\n",
       " ('onset', 3250),\n",
       " ('dur', 480),\n",
       " ('piano', 41, 75),\n",
       " ('onset', 3250),\n",
       " ('dur', 470),\n",
       " ('piano', 53, 75),\n",
       " ('onset', 3260),\n",
       " ('dur', 460),\n",
       " ('piano', 77, 90),\n",
       " ('onset', 3460),\n",
       " ('dur', 260),\n",
       " ('piano', 74, 90),\n",
       " ('onset', 3740),\n",
       " ('dur', 460),\n",
       " ('piano', 58, 75),\n",
       " ('onset', 3750),\n",
       " ('dur', 450),\n",
       " ('piano', 65, 75),\n",
       " ('onset', 3750),\n",
       " ('dur', 440),\n",
       " ('piano', 46, 75),\n",
       " ('onset', 3750),\n",
       " ('dur', 440)]"
      ]
     },
     "execution_count": 17,
     "metadata": {},
     "output_type": "execute_result"
    }
   ],
   "source": [
    "tokenized_sequence[0:150]"
   ]
  },
  {
   "cell_type": "code",
   "execution_count": 54,
   "id": "aed28e5a",
   "metadata": {},
   "outputs": [
    {
     "name": "stdout",
     "output_type": "stream",
     "text": [
      "[[67, 90, 0, 570], [65, 90, 560, 530], [70, 90, 1070, 550], [72, 90, 1580, 250], [77, 90, 1820, 290], [74, 90, 2070, 550], [72, 90, 2580, 280], [77, 90, 2830, 300], [74, 90, 3100, 550], [70, 90, 3600, 550], [72, 90, 4120, 590], [67, 90, 4660, 550], '<T>', [65, 90, 180, 580], [67, 90, 730, 500], [55, 60, 770, 470], [58, 60, 770, 470], [43, 60, 770, 470], [62, 45, 770, 460], [65, 75, 1240, 530], [45, 60, 1260, 500], [60, 60, 1260, 500], [57, 60, 1270, 490], [53, 60, 1270, 490], [70, 90, 1760, 460], [62, 45, 1770, 70], [58, 75, 1770, 450], [43, 75, 1770, 450], [55, 75, 1780, 100], [72, 90, 2250, 490], [69, 75, 2250, 490], [60, 75, 2270, 470], [41, 75, 2270, 470], [53, 75, 2270, 50], [77, 90, 2500, 240], [74, 90, 2760, 460], [38, 75, 2780, 440], [65, 75, 2780, 440], [50, 75, 2780, 430], [69, 60, 2790, 430], [72, 90, 3240, 490], [60, 75, 3250, 480], [69, 75, 3250, 480], [41, 75, 3250, 470], [53, 75, 3260, 460], [77, 90, 3460, 260], [74, 90, 3740, 460], [58, 75, 3750, 450], [65, 75, 3750, 440], [46, 75, 3750, 440], [70, 75, 3760, 440], [70, 90, 4220, 520], [62, 75, 4240, 500], [43, 75, 4240, 500], [67, 75, 4250, 500], [55, 75, 4250, 490], [72, 90, 4740, 520], [64, 75, 4750, 510], [67, 75, 4760, 500], [48, 75, 4770, 490], [36, 75, 4770, 490], '<T>', [67, 90, 250, 590], [40, 75, 270, 570], [55, 75, 270, 570], [52, 75, 270, 570], [60, 60, 290, 550], [65, 90, 810, 780], [41, 75, 820, 760], [53, 75, 820, 760], [57, 75, 840, 750], [60, 60, 840, 750], [65, 90, 1540, 550], [67, 90, 2060, 530], [62, 90, 2600, 550], [65, 90, 3120, 270], [67, 90, 3370, 280], [60, 90, 3660, 540], [67, 90, 4150, 290], [69, 90, 4400, 300], [65, 90, 4700, 1040], '<T>', [77, 90, 200, 540], [65, 75, 210, 530], [41, 75, 210, 530], [53, 75, 220, 520], [74, 90, 740, 610], [65, 75, 760, 490], [46, 75, 770, 490], [58, 75, 770, 480], [72, 90, 1240, 540], [65, 60, 1260, 520], [43, 60, 1260, 520], [55, 60, 1260, 520], [70, 90, 1460, 320], [65, 75, 1780, 660], [41, 60, 1790, 640], [53, 60, 1800, 630], [65, 90, 2410, 570], [67, 90, 2930, 540]]\n",
      "[('prefix', 'instrument', 'piano'), '<S>', ('piano', 67, 90), ('onset', 0), ('dur', 570), ('piano', 65, 90), ('onset', 560), ('dur', 530), ('piano', 70, 90), ('onset', 1070), ('dur', 550), ('piano', 72, 90), ('onset', 1580), ('dur', 250), ('piano', 77, 90), ('onset', 1820), ('dur', 290), ('piano', 74, 90), ('onset', 2070), ('dur', 550), ('piano', 72, 90), ('onset', 2580), ('dur', 280), ('piano', 77, 90), ('onset', 2830), ('dur', 300), ('piano', 74, 90), ('onset', 3100), ('dur', 550), ('piano', 70, 90), ('onset', 3600), ('dur', 550), ('piano', 72, 90), ('onset', 4120), ('dur', 590), ('piano', 67, 90), ('onset', 4660), ('dur', 550), '<T>', ('piano', 65, 90), ('onset', 180), ('dur', 580), ('piano', 67, 90), ('onset', 730), ('dur', 500), ('piano', 62, 45), ('onset', 770), ('dur', 460), ('piano', 53, 60), ('onset', 1270), ('dur', 490), ('piano', 77, 90), ('onset', 2500), ('dur', 240), ('piano', 69, 60), ('onset', 2790), ('dur', 430), ('piano', 77, 90), ('onset', 3460), ('dur', 260), ('piano', 70, 75), ('onset', 3760), ('dur', 440), ('piano', 55, 75), ('onset', 4250), ('dur', 490), ('piano', 36, 75), ('onset', 4770), ('dur', 490), '<T>', ('piano', 60, 60), ('onset', 290), ('dur', 550), ('piano', 60, 60), ('onset', 840), ('dur', 750), ('piano', 65, 90), ('onset', 1540), ('dur', 550), ('piano', 67, 90), ('onset', 2060), ('dur', 530), ('piano', 62, 90), ('onset', 2600), ('dur', 550), ('piano', 65, 90), ('onset', 3120), ('dur', 270), ('piano', 67, 90), ('onset', 3370), ('dur', 280), ('piano', 60, 90), ('onset', 3660), ('dur', 540), ('piano', 67, 90), ('onset', 4150), ('dur', 290), ('piano', 69, 90), ('onset', 4400), ('dur', 300)] \n",
      "\n"
     ]
    }
   ],
   "source": [
    "# Define a function to flatten the tokenized sequence\n",
    "def flatten(sequence):\n",
    "    flattened_sequence = []\n",
    "    note_info = []\n",
    "    for i in range(len(sequence)):\n",
    "        if sequence[i] == \"<T>\":\n",
    "            flattened_sequence.append(sequence[i])\n",
    "        if sequence[i][0] == \"piano\":\n",
    "            note_info.append(sequence[i][1])\n",
    "            note_info.append(sequence[i][2])\n",
    "        elif sequence[i][0] == \"onset\":\n",
    "            note_info.append(sequence[i][1])\n",
    "        elif sequence[i][0] == \"dur\":\n",
    "            note_info.append(sequence[i][1])\n",
    "            flattened_sequence.append(note_info) \n",
    "            note_info = []\n",
    "\n",
    "    return flattened_sequence\n",
    "\n",
    "def skyline(sequence: list, diff_threshold=50):\n",
    "    melody = []\n",
    "    pitch = 0\n",
    "    velocity = sequence[0][1]\n",
    "    onset = sequence[0][2]\n",
    "    duration = sequence[0][3]\n",
    "    i = 0\n",
    "\n",
    "    for i in range(len(sequence)):\n",
    "        if type(sequence[i]) != str:\n",
    "            current_pitch = sequence[i][0]\n",
    "            current_velocity = sequence[i][1]\n",
    "            current_onset = sequence[i][2]\n",
    "            current_duration = sequence[i][3]\n",
    "\n",
    "            # Get next note onset\n",
    "            if i+2 < len(sequence):\n",
    "                if type(sequence[i+1]) == str and type(sequence[i+2]) == str:\n",
    "                    next_onset = 5000\n",
    "                elif type(sequence[i+1]) == str and type(sequence[i+2]) != str:\n",
    "                    next_onset = sequence[i+2][2]\n",
    "                else:\n",
    "                    next_onset = sequence[i+1][2]\n",
    "            else:\n",
    "                next_onset = 5000\n",
    "            \n",
    "            # Get difference between current and next onset\n",
    "            diff_next_curr_onset = abs(next_onset - current_onset)\n",
    "\n",
    "            # Get difference between current and previous onset\n",
    "            diff_curr_prev_onset = abs(current_onset - onset)\n",
    "\n",
    "            # Check if current_onset is different from next onset\n",
    "            if diff_next_curr_onset > diff_threshold:\n",
    "                # Check if current_onset is different from previous onset and if current_pitch is greater than pitch\n",
    "                if diff_curr_prev_onset < diff_threshold and current_pitch > pitch:\n",
    "                    pitch = current_pitch\n",
    "                    onset = current_onset\n",
    "                    duration = current_duration\n",
    "                    velocity = current_velocity\n",
    "                elif diff_curr_prev_onset >= diff_threshold:\n",
    "                    pitch = current_pitch\n",
    "                    onset = current_onset\n",
    "                    duration = current_duration\n",
    "                    velocity = current_velocity\n",
    "                else:\n",
    "                    continue\n",
    "                # Append the last note\n",
    "                melody.append((\"piano\", pitch, velocity))\n",
    "                melody.append((\"onset\", onset))\n",
    "                melody.append((\"dur\", duration))\n",
    "\n",
    "            else:\n",
    "                if current_pitch > pitch:\n",
    "                    pitch = current_pitch\n",
    "                    onset = current_onset\n",
    "                    duration = current_duration\n",
    "                    velocity = current_velocity\n",
    "                else:\n",
    "                    continue\n",
    "        else:\n",
    "            melody.append(sequence[i])\n",
    "    return melody\n",
    "                \n",
    "# Call the flatten function\n",
    "flattened_sequence = flatten(tokenized_sequence)\n",
    "print(flattened_sequence[0:100])\n",
    "\n",
    "# Call the skyline function\n",
    "melody = skyline(flattened_sequence, diff_threshold=30)\n",
    "melody = tokenized_sequence[0:2] + melody + tokenized_sequence[-2:]\n",
    "print(melody[0:100], '\\n')"
   ]
  },
  {
   "cell_type": "code",
   "execution_count": 19,
   "id": "870951c3",
   "metadata": {},
   "outputs": [
    {
     "name": "stdout",
     "output_type": "stream",
     "text": [
      "['<S>', ('piano', 67, 90), ('onset', 0), ('dur', 570), ('piano', 65, 90), ('onset', 560), ('dur', 530), ('piano', 70, 90), ('onset', 1070), ('dur', 550), ('piano', 72, 90), ('onset', 1580), ('dur', 250), ('piano', 77, 90), ('onset', 1820), ('dur', 290), ('piano', 74, 90), ('onset', 2070), ('dur', 550), ('piano', 72, 90), ('onset', 2580), ('dur', 280), ('piano', 77, 90), ('onset', 2830), ('dur', 300), ('piano', 74, 90), ('onset', 3100), ('dur', 550), ('piano', 70, 90), ('onset', 3600), ('dur', 550), ('piano', 72, 90), ('onset', 4120), ('dur', 590), ('piano', 67, 90), ('onset', 4660), ('dur', 550), '<T>', ('piano', 65, 90), ('onset', 180), ('dur', 580), ('piano', 67, 90), ('onset', 730), ('dur', 500), ('piano', 55, 60), ('onset', 770), ('dur', 470), ('piano', 58, 60), ('onset', 770), ('dur', 470), ('piano', 43, 60), ('onset', 770), ('dur', 470), ('piano', 62, 45), ('onset', 770), ('dur', 460), ('piano', 65, 75), ('onset', 1240), ('dur', 530), ('piano', 45, 60), ('onset', 1260), ('dur', 500), ('piano', 60, 60), ('onset', 1260), ('dur', 500), ('piano', 57, 60), ('onset', 1270), ('dur', 490), ('piano', 53, 60), ('onset', 1270), ('dur', 490), ('piano', 70, 90), ('onset', 1760), ('dur', 460), ('piano', 62, 45), ('onset', 1770), ('dur', 70), ('piano', 58, 75), ('onset', 1770), ('dur', 450), ('piano', 43, 75), ('onset', 1770), ('dur', 450), ('piano', 55, 75), ('onset', 1780), ('dur', 100), ('piano', 72, 90), ('onset', 2250), ('dur', 490), ('piano', 69, 75), ('onset', 2250), ('dur', 490), ('piano', 60, 75), ('onset', 2270), ('dur', 470), ('piano', 41, 75), ('onset', 2270), ('dur', 470), ('piano', 53, 75), ('onset', 2270), ('dur', 50), ('piano', 77, 90), ('onset', 2500), ('dur', 240), ('piano', 74, 90), ('onset', 2760), ('dur', 460), ('piano', 38, 75), ('onset', 2780), ('dur', 440), ('piano', 65, 75), ('onset', 2780), ('dur', 440), ('piano', 50, 75), ('onset', 2780), ('dur', 430), ('piano', 69, 60), ('onset', 2790), ('dur', 430), ('piano', 72, 90), ('onset', 3240), ('dur', 490), ('piano', 60, 75), ('onset', 3250), ('dur', 480), ('piano', 69, 75), ('onset', 3250), ('dur', 480), ('piano', 41, 75), ('onset', 3250), ('dur', 470), ('piano', 53, 75), ('onset', 3260), ('dur', 460), ('piano', 77, 90), ('onset', 3460), ('dur', 260), ('piano', 74, 90), ('onset', 3740), ('dur', 460), ('piano', 58, 75), ('onset', 3750), ('dur', 450), ('piano', 65, 75), ('onset', 3750), ('dur', 440), ('piano', 46, 75), ('onset', 3750), ('dur', 440)]\n"
     ]
    }
   ],
   "source": [
    "print(tokenized_sequence[1:150])"
   ]
  },
  {
   "cell_type": "code",
   "execution_count": 52,
   "id": "5356725b",
   "metadata": {},
   "outputs": [
    {
     "name": "stdout",
     "output_type": "stream",
     "text": [
      "48136\n",
      "14965\n"
     ]
    }
   ],
   "source": [
    "print(len(tokenized_sequence))\n",
    "print(len(melody))"
   ]
  },
  {
   "cell_type": "code",
   "execution_count": 55,
   "id": "3c2ed810",
   "metadata": {},
   "outputs": [],
   "source": [
    "mid_dict = tokenizer.detokenize(melody) # mid_dict is a MidiDict object\n",
    "mid = mid_dict.to_midi() # mid is a mido.MidiFile\n",
    "mid.save('test_file.mid')"
   ]
  },
  {
   "cell_type": "code",
   "execution_count": 27,
   "id": "d69c8659",
   "metadata": {},
   "outputs": [
    {
     "data": {
      "text/plain": [
       "<aria.data.midi.MidiDict at 0x7fb40f823c40>"
      ]
     },
     "execution_count": 27,
     "metadata": {},
     "output_type": "execute_result"
    }
   ],
   "source": [
    "mid_dict"
   ]
  },
  {
   "cell_type": "code",
   "execution_count": null,
   "id": "35e12d71",
   "metadata": {},
   "outputs": [],
   "source": []
  }
 ],
 "metadata": {
  "kernelspec": {
   "display_name": "music",
   "language": "python",
   "name": "python3"
  },
  "language_info": {
   "codemirror_mode": {
    "name": "ipython",
    "version": 3
   },
   "file_extension": ".py",
   "mimetype": "text/x-python",
   "name": "python",
   "nbconvert_exporter": "python",
   "pygments_lexer": "ipython3",
   "version": "3.10.14"
  }
 },
 "nbformat": 4,
 "nbformat_minor": 5
}
